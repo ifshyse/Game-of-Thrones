{
 "cells": [
  {
   "cell_type": "markdown",
   "metadata": {},
   "source": [
    "# Data Analysis of the “War of the Five Kings” - Game of Thrones\n",
    "\n",
    "## Introduction\n",
    "\n",
    "The War of the Five Kings is a famous civil war described in the well-known serious fantasy novel “Game of Thrones”. This is a civil strife with an unprecedented scale that involves seven kingdoms. As the name implies, a total of five persons claim to be the king during the war: Joffrey Baratheon, Stannis Baratheon and Renly Baratheon all claim to be the rightful heir of the iron throne. Moreover, Robb Stark is elected by the barons of the northern border to the King in the North, and Balon Greyjoy erects the flag of independence again and claims to be the King of the Iron Islands, in an attempt to shake off the ruling of the Iron Throne. \n",
    "\n",
    "\n",
    "This dataset (battles.csv) contains all the battles during the War of the Five Kings. It is part of the [Game of Thrones](https://www.kaggle.com/mylesoneill/game-of-thrones) in Kaggle. \n",
    "\n",
    "Variables in the dataset and meanings:"
   ]
  },
  {
   "cell_type": "markdown",
   "metadata": {},
   "source": [
    "\n",
    "- **name:** String variable. The name of the battle.\n",
    "- **year:** Numeric variable. The year of the battle.\n",
    "- **battle_number:** Numeric variable. A unique ID number for the battle.\n",
    "- **attacker_king:** Categorical. The attacker's king. A slash indicators that the king charges over the course of the war. For example, \"Joffrey/Tommen Baratheon\" is coded as such because one king follows the other in the Iron Throne.\n",
    "- **defender_king:** Categorical variable. The defender's king.\n",
    "- **attacker_1:** String variable. Major house attacking.\n",
    "- **attacker_2:** String variable. Major house attacking.\n",
    "- **attacker_3:** String variable. Major house attacking.\n",
    "- **attacker_4:** String variable. Major house attacking.\n",
    "- **defender_1:** String variable. Major house defending.\n",
    "- **defender_2:** String variable. Major house defending.\n",
    "- **defender_3:** String variable. Major house defending.\n",
    "- **defender_4:** String variable. Major house defending.\n",
    "- **attacker_outcome:** Categorical variable. The outcome from the perspective of the attacker. Categories: win, loss, draw.\n",
    "- **battle_type:** Categorical variable. A classification of the battle's primary type. Categories:\n",
    "    - pitched\\_battle: Armies meet in a location and fight. This is also the baseline category.\n",
    "    - ambush: A battle where stealth or subterfuge was the primary means of attack.\n",
    "    - siege: A prolonged of a fortied position.\n",
    "    - razing: An attack against an undefended position\n",
    "- **major_death:** Binary variable. If there was a death of a major figure during the battle.\n",
    "- **major_capture:** Binary variable. If there was the capture of the major figure during the battle.\n",
    "- **attacker_size:** Numeric variable. The size of the attacker's force. No distinction is made between the types of soldiers such as cavalry and footmen.\n",
    "- **defender_size:** Numeric variable. The size of the defenders's force. No distinction is made between the types of soldiers such as cavalry and footmen.\n",
    "- **attacker_commander:** String variable. Major commanders of the attackers. Commander's names are included without honoric titles and commandders are seperated by commas.\n",
    "- **defender_commander:** String variable. Major commanders of the defener. Commander's names are included without honoric titles and commandders are seperated by commas.\n",
    "- **summer:** Binary variable. Was it summer?\n",
    "- **location:** String variable. The location of the battle.\n",
    "- **region:** Categorical variable. The region where the battle takes place. Categories: Beyond the Wall, The North, The Iron Islands, The Riverlands, The Vale of Arryn, The Westerlands, The Crownlands, The Reach, The Stormlands, Dorne\n",
    "- **note:** String variable. Coding notes regarding individual observations.. \n",
    "\n"
   ]
  },
  {
   "cell_type": "markdown",
   "metadata": {},
   "source": [
    "## Project Instructions\n",
    "\n",
    "\n",
    "\n",
    "We have provided the data analysis flow for this project, but you will have to complete the codes by yourself. Your failure to complete this project means you are temporarily incapable to achieve the nanodegree of data analysis (advanced). We suggest you achieve a nanodegree of data analysis (introductory) and master the knowledge required to proceed with the advanced course. \n",
    "\n",
    "Records in the process of data analysis are also an important part of the data analysis report. You can insert markdown cells where you need to record your key steps and reasoning processes during the data analysis. For example, what characteristics do data have? What do statistical data mean? What conclusion can you derive from visualization? What’s your analysis next step? Why do you perform the analysis? If you fail to do this, you can’t pass this project. \n",
    "\n",
    "\n",
    "> **Tip**: Quoted sections like this will provide helpful instructions on how to navigate and use an iPython notebook.\n",
    "\n",
    "## Ask questions\n",
    "\n",
    "Under this project, you will perform an explorative analysis of data as a data analyst. You will understand the basic flow of data analysis. Before starting data analysis, please think several questions about these battles you will have to understand. For example, what region sees the largest number of battles? What king wins the most victories? What key factors influence the outcome of a battle? \n"
   ]
  },
  {
   "cell_type": "markdown",
   "metadata": {},
   "source": [
    "**Question**：Please write down questions you’re interested in and ensure all these questions can be answered with data available now. \n",
    "(To ensure the learning effect, please ensure your data analysis report can contain two visualization analysis chapters and one correlation analysis chapter.）\n",
    "\n",
    "**Answer**：what region sees the largest number of battles? What king wins the most victories? What key factors influence the outcome of a battle?\n"
   ]
  },
  {
   "cell_type": "markdown",
   "metadata": {},
   "source": [
    "After setting questions, we will start importing data and perform an explorative analysis to answer the questions set above. \n",
    "\n",
    "\n",
    "> **Tip**: If you double click on this cell, you will see the text change so that all of the formatting is removed. This allows you to edit this block of text. This block of text is written using [Markdown](http://daringfireball.net/projects/markdown/syntax), which is a way to format text using headers, links, italics, and many other options. You will learn more about Markdown later in the Nanodegree Program. Hit **Shift** + **Enter** or **Shift** + **Return**.\n"
   ]
  },
  {
   "cell_type": "markdown",
   "metadata": {},
   "source": [
    "## Data Wrangling\n",
    "\n",
    "\n",
    "> **Tip**: You can run a code cell like you formatted Markdown cells by clicking on the cell and using the keyboard shortcut **Shift** + **Enter** or **Shift** + **Return**. Alternatively, a code cell can be executed using the **Play** button in the toolbar after selecting it. While the cell is running, you will see an asterisk in the message to the left of the cell, i.e. `In [*]:`. The asterisk will change into a number to show that execution has completed, e.g. `In [1]`. If there is output, it will show up as `Out [1]:`, with an appropriate number to match the \"In\" number."
   ]
  },
  {
   "cell_type": "code",
   "execution_count": 2,
   "metadata": {},
   "outputs": [],
   "source": [
    "# TO DO: load pacakges\n",
    "import pandas as pd\n",
    "import numpy as np"
   ]
  },
  {
   "cell_type": "code",
   "execution_count": 3,
   "metadata": {},
   "outputs": [],
   "source": [
    "# TO DO: load the dataset\n",
    "df = pd.read_csv(\"battles.csv\")"
   ]
  },
  {
   "cell_type": "code",
   "execution_count": 4,
   "metadata": {},
   "outputs": [
    {
     "name": "stdout",
     "output_type": "stream",
     "text": [
      "<class 'pandas.core.frame.DataFrame'>\n",
      "RangeIndex: 38 entries, 0 to 37\n",
      "Data columns (total 25 columns):\n",
      "name                  38 non-null object\n",
      "year                  38 non-null int64\n",
      "battle_number         38 non-null int64\n",
      "attacker_king         36 non-null object\n",
      "defender_king         35 non-null object\n",
      "attacker_1            38 non-null object\n",
      "attacker_2            10 non-null object\n",
      "attacker_3            3 non-null object\n",
      "attacker_4            2 non-null object\n",
      "defender_1            37 non-null object\n",
      "defender_2            2 non-null object\n",
      "defender_3            0 non-null float64\n",
      "defender_4            0 non-null float64\n",
      "attacker_outcome      37 non-null object\n",
      "battle_type           37 non-null object\n",
      "major_death           37 non-null float64\n",
      "major_capture         37 non-null float64\n",
      "attacker_size         24 non-null float64\n",
      "defender_size         19 non-null float64\n",
      "attacker_commander    37 non-null object\n",
      "defender_commander    28 non-null object\n",
      "summer                37 non-null float64\n",
      "location              37 non-null object\n",
      "region                38 non-null object\n",
      "note                  5 non-null object\n",
      "dtypes: float64(7), int64(2), object(16)\n",
      "memory usage: 7.5+ KB\n"
     ]
    }
   ],
   "source": [
    "# TO DO: check the dataset general info\n",
    "df.info()"
   ]
  },
  {
   "cell_type": "code",
   "execution_count": 5,
   "metadata": {},
   "outputs": [],
   "source": [
    "# TO DO: clean the data (optional: only there are problems)\n",
    "# user mean value replace nan \n",
    "major_death = df[\"major_death\"].mean()\n",
    "df[\"major_death\"].fillna(major_death, inplace = True)"
   ]
  },
  {
   "cell_type": "code",
   "execution_count": 6,
   "metadata": {},
   "outputs": [
    {
     "name": "stdout",
     "output_type": "stream",
     "text": [
      "<class 'pandas.core.frame.DataFrame'>\n",
      "RangeIndex: 38 entries, 0 to 37\n",
      "Data columns (total 25 columns):\n",
      "name                  38 non-null object\n",
      "year                  38 non-null int64\n",
      "battle_number         38 non-null int64\n",
      "attacker_king         36 non-null object\n",
      "defender_king         35 non-null object\n",
      "attacker_1            38 non-null object\n",
      "attacker_2            10 non-null object\n",
      "attacker_3            3 non-null object\n",
      "attacker_4            2 non-null object\n",
      "defender_1            37 non-null object\n",
      "defender_2            2 non-null object\n",
      "defender_3            0 non-null float64\n",
      "defender_4            0 non-null float64\n",
      "attacker_outcome      37 non-null object\n",
      "battle_type           37 non-null object\n",
      "major_death           38 non-null float64\n",
      "major_capture         38 non-null float64\n",
      "attacker_size         24 non-null float64\n",
      "defender_size         19 non-null float64\n",
      "attacker_commander    37 non-null object\n",
      "defender_commander    28 non-null object\n",
      "summer                37 non-null float64\n",
      "location              37 non-null object\n",
      "region                38 non-null object\n",
      "note                  5 non-null object\n",
      "dtypes: float64(7), int64(2), object(16)\n",
      "memory usage: 7.5+ KB\n"
     ]
    }
   ],
   "source": [
    "# user mean value replace nan \n",
    "major_capture = df[\"major_capture\"].mean()\n",
    "df[\"major_capture\"].fillna(major_capture, inplace = True)\n",
    "df.info()"
   ]
  },
  {
   "cell_type": "code",
   "execution_count": 7,
   "metadata": {},
   "outputs": [
    {
     "name": "stdout",
     "output_type": "stream",
     "text": [
      "<class 'pandas.core.frame.DataFrame'>\n",
      "RangeIndex: 38 entries, 0 to 37\n",
      "Data columns (total 25 columns):\n",
      "name                  38 non-null object\n",
      "year                  38 non-null int64\n",
      "battle_number         38 non-null int64\n",
      "attacker_king         36 non-null object\n",
      "defender_king         35 non-null object\n",
      "attacker_1            38 non-null object\n",
      "attacker_2            10 non-null object\n",
      "attacker_3            3 non-null object\n",
      "attacker_4            2 non-null object\n",
      "defender_1            37 non-null object\n",
      "defender_2            2 non-null object\n",
      "defender_3            0 non-null float64\n",
      "defender_4            0 non-null float64\n",
      "attacker_outcome      37 non-null object\n",
      "battle_type           37 non-null object\n",
      "major_death           38 non-null float64\n",
      "major_capture         38 non-null float64\n",
      "attacker_size         38 non-null float64\n",
      "defender_size         19 non-null float64\n",
      "attacker_commander    37 non-null object\n",
      "defender_commander    28 non-null object\n",
      "summer                37 non-null float64\n",
      "location              37 non-null object\n",
      "region                38 non-null object\n",
      "note                  5 non-null object\n",
      "dtypes: float64(7), int64(2), object(16)\n",
      "memory usage: 7.5+ KB\n"
     ]
    }
   ],
   "source": [
    "# user mean value replace nan \n",
    "attacker_size = df[\"attacker_size\"].mean()\n",
    "df[\"attacker_size\"].fillna(attacker_size, inplace = True)\n",
    "df.info()"
   ]
  },
  {
   "cell_type": "code",
   "execution_count": 8,
   "metadata": {},
   "outputs": [
    {
     "name": "stdout",
     "output_type": "stream",
     "text": [
      "<class 'pandas.core.frame.DataFrame'>\n",
      "RangeIndex: 38 entries, 0 to 37\n",
      "Data columns (total 25 columns):\n",
      "name                  38 non-null object\n",
      "year                  38 non-null int64\n",
      "battle_number         38 non-null int64\n",
      "attacker_king         36 non-null object\n",
      "defender_king         35 non-null object\n",
      "attacker_1            38 non-null object\n",
      "attacker_2            10 non-null object\n",
      "attacker_3            3 non-null object\n",
      "attacker_4            2 non-null object\n",
      "defender_1            37 non-null object\n",
      "defender_2            2 non-null object\n",
      "defender_3            0 non-null float64\n",
      "defender_4            0 non-null float64\n",
      "attacker_outcome      37 non-null object\n",
      "battle_type           37 non-null object\n",
      "major_death           38 non-null float64\n",
      "major_capture         38 non-null float64\n",
      "attacker_size         38 non-null float64\n",
      "defender_size         38 non-null float64\n",
      "attacker_commander    37 non-null object\n",
      "defender_commander    28 non-null object\n",
      "summer                37 non-null float64\n",
      "location              37 non-null object\n",
      "region                38 non-null object\n",
      "note                  5 non-null object\n",
      "dtypes: float64(7), int64(2), object(16)\n",
      "memory usage: 7.5+ KB\n"
     ]
    }
   ],
   "source": [
    "# user mean value replace nan \n",
    "defender_size = df[\"defender_size\"].mean()\n",
    "df[\"defender_size\"].fillna(defender_size, inplace = True)\n",
    "df.info()"
   ]
  },
  {
   "cell_type": "code",
   "execution_count": 9,
   "metadata": {},
   "outputs": [
    {
     "name": "stdout",
     "output_type": "stream",
     "text": [
      "<class 'pandas.core.frame.DataFrame'>\n",
      "RangeIndex: 38 entries, 0 to 37\n",
      "Data columns (total 25 columns):\n",
      "name                  38 non-null object\n",
      "year                  38 non-null int64\n",
      "battle_number         38 non-null int64\n",
      "attacker_king         36 non-null object\n",
      "defender_king         35 non-null object\n",
      "attacker_1            38 non-null object\n",
      "attacker_2            10 non-null object\n",
      "attacker_3            3 non-null object\n",
      "attacker_4            2 non-null object\n",
      "defender_1            37 non-null object\n",
      "defender_2            2 non-null object\n",
      "defender_3            0 non-null float64\n",
      "defender_4            0 non-null float64\n",
      "attacker_outcome      37 non-null object\n",
      "battle_type           37 non-null object\n",
      "major_death           38 non-null float64\n",
      "major_capture         38 non-null float64\n",
      "attacker_size         38 non-null float64\n",
      "defender_size         38 non-null float64\n",
      "attacker_commander    37 non-null object\n",
      "defender_commander    28 non-null object\n",
      "summer                38 non-null float64\n",
      "location              37 non-null object\n",
      "region                38 non-null object\n",
      "note                  5 non-null object\n",
      "dtypes: float64(7), int64(2), object(16)\n",
      "memory usage: 7.5+ KB\n"
     ]
    }
   ],
   "source": [
    "# user mean value replace nan \n",
    "summer = df[\"summer\"].mean()\n",
    "df[\"summer\"].fillna(summer, inplace = True)\n",
    "df.info()"
   ]
  },
  {
   "cell_type": "code",
   "execution_count": 13,
   "metadata": {},
   "outputs": [
    {
     "data": {
      "text/plain": [
       "'The Westerlands'"
      ]
     },
     "execution_count": 13,
     "metadata": {},
     "output_type": "execute_result"
    }
   ],
   "source": [
    "# the region happends most war\n",
    "df[\"region\"].max()"
   ]
  },
  {
   "cell_type": "code",
   "execution_count": null,
   "metadata": {},
   "outputs": [],
   "source": []
  },
  {
   "cell_type": "markdown",
   "metadata": {},
   "source": [
    "## Exploratory data analysis"
   ]
  },
  {
   "cell_type": "code",
   "execution_count": null,
   "metadata": {},
   "outputs": [],
   "source": [
    "# In exploratory data analysis, please make sure of using statistics and visualizations\n"
   ]
  },
  {
   "cell_type": "markdown",
   "metadata": {},
   "source": [
    "When performing exploratory data analysis, please make sure you record your key steps and reasoning processes during the data analysis. You can insert code cells and markdown cells to organize your report. \n"
   ]
  },
  {
   "cell_type": "markdown",
   "metadata": {},
   "source": [
    "## Draw conclusions\n",
    "\n",
    "**Question**: Can the aforesaid analysis answer the question you have set? What conclusions can you draw from the analysis? \n",
    "\n",
    "**Answer**: Please replace this text with your answer! \n",
    "\n"
   ]
  },
  {
   "cell_type": "markdown",
   "metadata": {},
   "source": [
    "## Further Reflections\n",
    "\n",
    "**Question**: Is your logic rigorous during your analysis and summary? Is there any space for further improvement?  You can think about these questions from the following perspectives: \n",
    "1. Is the dataset integral? Does it contain all data you want to analyze? \n",
    "2. May your operation (for example, delete/fill missing values) influence your conclusion during data process? \n",
    "3. Are there any other variables (which are not contained in the dataset) to help your analysis? \n",
    "4. Have you mixed correlation and causality when drawing a conclusion? \n",
    "\n",
    "**Answer**: Please replace this text with your answer! \n",
    "\n"
   ]
  },
  {
   "cell_type": "markdown",
   "metadata": {},
   "source": [
    "Congratulate you on finishing this project! This is only a sample of the data analysis process: Generate questions, analyze data, explore data and draw a conclusion. When proceeding with a manometer degree of data analysis (advanced), you will learn more advanced data analysis methods and technologies. If you are interested, we encourage you to proceed with subsequent courses and master more advanced data analysis skills! \n",
    "\n",
    "\n",
    "> **Tip**: If we want to share the results of our analysis with others, we aren't limited to giving them a copy of the jupyter Notebook (.ipynb) file. We can also export the Notebook output in a form that can be opened even for those without Python installed. From the **File** menu in the upper left, go to the **Download as** submenu. You can then choose a different format that can be viewed more generally, such as HTML (.html) or\n",
    "PDF (.pdf). You may need additional packages or software to perform these exports."
   ]
  },
  {
   "cell_type": "code",
   "execution_count": null,
   "metadata": {},
   "outputs": [],
   "source": []
  }
 ],
 "metadata": {
  "kernelspec": {
   "display_name": "Python 3",
   "language": "python",
   "name": "python3"
  },
  "language_info": {
   "codemirror_mode": {
    "name": "ipython",
    "version": 3
   },
   "file_extension": ".py",
   "mimetype": "text/x-python",
   "name": "python",
   "nbconvert_exporter": "python",
   "pygments_lexer": "ipython3",
   "version": "3.6.5"
  }
 },
 "nbformat": 4,
 "nbformat_minor": 2
}
